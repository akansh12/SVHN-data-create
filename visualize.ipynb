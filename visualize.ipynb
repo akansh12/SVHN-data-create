{
 "cells": [
  {
   "cell_type": "code",
   "execution_count": 20,
   "id": "e07de00e",
   "metadata": {},
   "outputs": [],
   "source": [
    "import torch\n",
    "import torch\n",
    "from torchvision import datasets, transforms\n",
    "import numpy as np\n",
    "import os\n",
    "from collections import defaultdict\n",
    "from torch.utils.data import Subset\n",
    "from torchvision import datasets\n",
    "import random\n",
    "from collections import Counter\n",
    "import matplotlib.pyplot as plt"
   ]
  },
  {
   "cell_type": "code",
   "execution_count": 13,
   "id": "df11c79e",
   "metadata": {},
   "outputs": [],
   "source": [
    "svhn = datasets.SVHN(root='./data', split='train', download=True)"
   ]
  },
  {
   "cell_type": "code",
   "execution_count": 14,
   "id": "1d0e9291",
   "metadata": {},
   "outputs": [],
   "source": [
    "with open(\"selected_svhn_indices_150.txt\", \"r\") as f:\n",
    "    selected_indices = [int(line.strip()) for line in f]"
   ]
  },
  {
   "cell_type": "code",
   "execution_count": 15,
   "id": "5f661ef7",
   "metadata": {},
   "outputs": [
    {
     "name": "stdout",
     "output_type": "stream",
     "text": [
      "Total balanced samples: 1500\n"
     ]
    }
   ],
   "source": [
    "# Shuffle to avoid class ordering\n",
    "random.shuffle(selected_indices)\n",
    "\n",
    "# Build balanced subset\n",
    "target_per_class = 150\n",
    "class_limits = defaultdict(int)\n",
    "balanced_indices = []\n",
    "\n",
    "for idx in selected_indices:\n",
    "    label = svhn[idx][1]\n",
    "    if class_limits[label] < target_per_class:\n",
    "        balanced_indices.append(idx)\n",
    "        class_limits[label] += 1\n",
    "    # Stop early if all classes are done\n",
    "    if all(class_limits[d] >= target_per_class for d in range(10)):\n",
    "        break\n",
    "\n",
    "print(f\"Total balanced samples: {len(balanced_indices)}\")\n",
    "\n",
    "# Create the subset\n",
    "balanced_subset = Subset(svhn, balanced_indices)"
   ]
  },
  {
   "cell_type": "code",
   "execution_count": 17,
   "id": "2e67ece7",
   "metadata": {},
   "outputs": [
    {
     "name": "stdout",
     "output_type": "stream",
     "text": [
      "Class distribution:\n",
      "Digit 0: 150\n",
      "Digit 1: 150\n",
      "Digit 2: 150\n",
      "Digit 3: 150\n",
      "Digit 4: 150\n",
      "Digit 5: 150\n",
      "Digit 6: 150\n",
      "Digit 7: 150\n",
      "Digit 8: 150\n",
      "Digit 9: 150\n"
     ]
    },
    {
     "data": {
      "image/png": "[encoded data removed]",
      "text/plain": [
       "<Figure size 640x480 with 1 Axes>"
      ]
     },
     "metadata": {},
     "output_type": "display_data"
    }
   ],
   "source": [
    "# Extract labels from selected subset\n",
    "labels = [svhn[i][1] for i in balanced_indices]\n",
    "\n",
    "# Count frequency of each label\n",
    "label_counts = Counter(labels)\n",
    "\n",
    "# Print counts\n",
    "print(\"Class distribution:\")\n",
    "for label in sorted(label_counts.keys()):\n",
    "    print(f\"Digit {label}: {label_counts[label]}\")\n",
    "\n",
    "# Plot the distribution\n",
    "plt.bar(label_counts.keys(), label_counts.values())\n",
    "plt.xticks(range(10))\n",
    "plt.xlabel(\"Digit Class\")\n",
    "plt.ylabel(\"Frequency\")\n",
    "plt.title(\"Class Distribution in Selected SVHN Subset\")\n",
    "plt.show()"
   ]
  },
  {
   "cell_type": "code",
   "execution_count": 18,
   "id": "5dcd85ab",
   "metadata": {},
   "outputs": [],
   "source": [
    "#save the balanced indices to a file\n",
    "output_file = \"balanced_svhn_indices_150.txt\"\n",
    "with open(output_file, \"w\") as f:\n",
    "    for idx in balanced_indices:\n",
    "        f.write(f\"{idx}\\n\")"
   ]
  },
  {
   "cell_type": "markdown",
   "id": "7e7caafa",
   "metadata": {},
   "source": [
    "### Create Train-Val-Test split"
   ]
  },
  {
   "cell_type": "code",
   "execution_count": 31,
   "id": "94224765",
   "metadata": {},
   "outputs": [],
   "source": [
    "with open(\"balanced_svhn_indices_150.txt\", \"r\") as f:\n",
    "    balanced_indices = [int(line.strip()) for line in f]"
   ]
  },
  {
   "cell_type": "code",
   "execution_count": 36,
   "id": "48a28378",
   "metadata": {},
   "outputs": [
    {
     "name": "stdout",
     "output_type": "stream",
     "text": [
      "Train: 1000\n",
      "Val:   200\n",
      "Test:  300\n"
     ]
    }
   ],
   "source": [
    "# Group indices by class\n",
    "class_to_indices = defaultdict(list)\n",
    "\n",
    "for idx in balanced_indices:\n",
    "    label = svhn[idx][1]\n",
    "    class_to_indices[label].append(idx)\n",
    "\n",
    "# Shuffle each class\n",
    "for label in class_to_indices:\n",
    "    random.shuffle(class_to_indices[label])\n",
    "\n",
    "# Split\n",
    "train_indices = []\n",
    "val_indices = []\n",
    "test_indices = []\n",
    "\n",
    "for label in range(10):\n",
    "    indices = class_to_indices[label]\n",
    "    train_indices += indices[:100]\n",
    "    val_indices += indices[100:120]\n",
    "    test_indices += indices[120:150]\n",
    "\n",
    "print(f\"Train: {len(train_indices)}\")\n",
    "print(f\"Val:   {len(val_indices)}\")\n",
    "print(f\"Test:  {len(test_indices)}\")\n"
   ]
  },
  {
   "cell_type": "code",
   "execution_count": 39,
   "id": "67c03d92",
   "metadata": {},
   "outputs": [],
   "source": [
    "with open(\"train_balanced_indices.txt\", \"w\") as f:\n",
    "    for idx in train_indices:\n",
    "        f.write(f\"{idx}\\n\")\n",
    "\n",
    "with open(\"val_balanced_indices.txt\", \"w\") as f:\n",
    "    for idx in val_indices:\n",
    "        f.write(f\"{idx}\\n\")\n",
    "\n",
    "with open(\"test_balanced_indices.txt\", \"w\") as f:\n",
    "    for idx in test_indices:\n",
    "        f.write(f\"{idx}\\n\")"
   ]
  },
  {
   "cell_type": "code",
   "execution_count": 40,
   "id": "bbf92b07",
   "metadata": {},
   "outputs": [],
   "source": [
    "from torch.utils.data import Subset\n",
    "\n",
    "train_subset = Subset(svhn, train_indices)\n",
    "val_subset   = Subset(svhn, val_indices)\n",
    "test_subset  = Subset(svhn, test_indices)\n"
   ]
  }
 ],
 "metadata": {
  "kernelspec": {
   "display_name": "mmfl",
   "language": "python",
   "name": "python3"
  },
  "language_info": {
   "codemirror_mode": {
    "name": "ipython",
    "version": 3
   },
   "file_extension": ".py",
   "mimetype": "text/x-python",
   "name": "python",
   "nbconvert_exporter": "python",
   "pygments_lexer": "ipython3",
   "version": "3.13.2"
  }
 },
 "nbformat": 4,
 "nbformat_minor": 5
}
